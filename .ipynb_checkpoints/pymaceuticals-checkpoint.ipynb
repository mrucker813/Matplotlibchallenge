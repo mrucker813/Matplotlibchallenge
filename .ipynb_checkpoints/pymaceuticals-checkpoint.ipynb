{
 "cells": [
  {
   "cell_type": "markdown",
   "metadata": {},
   "source": [
    "## Observations and Insights "
   ]
  },
  {
   "cell_type": "markdown",
   "metadata": {},
   "source": []
  },
  {
   "cell_type": "code",
   "execution_count": 1,
   "metadata": {},
   "outputs": [
    {
     "data": {
      "text/html": [
       "<div>\n",
       "<style scoped>\n",
       "    .dataframe tbody tr th:only-of-type {\n",
       "        vertical-align: middle;\n",
       "    }\n",
       "\n",
       "    .dataframe tbody tr th {\n",
       "        vertical-align: top;\n",
       "    }\n",
       "\n",
       "    .dataframe thead th {\n",
       "        text-align: right;\n",
       "    }\n",
       "</style>\n",
       "<table border=\"1\" class=\"dataframe\">\n",
       "  <thead>\n",
       "    <tr style=\"text-align: right;\">\n",
       "      <th></th>\n",
       "      <th>Mouse ID</th>\n",
       "      <th>Drug Regimen</th>\n",
       "      <th>Sex</th>\n",
       "      <th>Age_months</th>\n",
       "      <th>Weight (g)</th>\n",
       "      <th>Timepoint</th>\n",
       "      <th>Tumor Volume (mm3)</th>\n",
       "      <th>Metastatic Sites</th>\n",
       "    </tr>\n",
       "  </thead>\n",
       "  <tbody>\n",
       "    <tr>\n",
       "      <th>0</th>\n",
       "      <td>k403</td>\n",
       "      <td>Ramicane</td>\n",
       "      <td>Male</td>\n",
       "      <td>21</td>\n",
       "      <td>16</td>\n",
       "      <td>0</td>\n",
       "      <td>45.000000</td>\n",
       "      <td>0</td>\n",
       "    </tr>\n",
       "    <tr>\n",
       "      <th>1</th>\n",
       "      <td>k403</td>\n",
       "      <td>Ramicane</td>\n",
       "      <td>Male</td>\n",
       "      <td>21</td>\n",
       "      <td>16</td>\n",
       "      <td>5</td>\n",
       "      <td>38.825898</td>\n",
       "      <td>0</td>\n",
       "    </tr>\n",
       "    <tr>\n",
       "      <th>2</th>\n",
       "      <td>k403</td>\n",
       "      <td>Ramicane</td>\n",
       "      <td>Male</td>\n",
       "      <td>21</td>\n",
       "      <td>16</td>\n",
       "      <td>10</td>\n",
       "      <td>35.014271</td>\n",
       "      <td>1</td>\n",
       "    </tr>\n",
       "    <tr>\n",
       "      <th>3</th>\n",
       "      <td>k403</td>\n",
       "      <td>Ramicane</td>\n",
       "      <td>Male</td>\n",
       "      <td>21</td>\n",
       "      <td>16</td>\n",
       "      <td>15</td>\n",
       "      <td>34.223992</td>\n",
       "      <td>1</td>\n",
       "    </tr>\n",
       "    <tr>\n",
       "      <th>4</th>\n",
       "      <td>k403</td>\n",
       "      <td>Ramicane</td>\n",
       "      <td>Male</td>\n",
       "      <td>21</td>\n",
       "      <td>16</td>\n",
       "      <td>20</td>\n",
       "      <td>32.997729</td>\n",
       "      <td>1</td>\n",
       "    </tr>\n",
       "  </tbody>\n",
       "</table>\n",
       "</div>"
      ],
      "text/plain": [
       "  Mouse ID Drug Regimen   Sex  Age_months  Weight (g)  Timepoint  \\\n",
       "0     k403     Ramicane  Male          21          16          0   \n",
       "1     k403     Ramicane  Male          21          16          5   \n",
       "2     k403     Ramicane  Male          21          16         10   \n",
       "3     k403     Ramicane  Male          21          16         15   \n",
       "4     k403     Ramicane  Male          21          16         20   \n",
       "\n",
       "   Tumor Volume (mm3)  Metastatic Sites  \n",
       "0           45.000000                 0  \n",
       "1           38.825898                 0  \n",
       "2           35.014271                 1  \n",
       "3           34.223992                 1  \n",
       "4           32.997729                 1  "
      ]
     },
     "execution_count": 1,
     "metadata": {},
     "output_type": "execute_result"
    }
   ],
   "source": [
    "# Dependencies and Setup\n",
    "import matplotlib.pyplot as plt\n",
    "import pandas as pd\n",
    "import scipy.stats as st\n",
    "import numpy as np\n",
    "\n",
    "# Study data files\n",
    "mouse_metadata_path = \"data/Mouse_metadata.csv\"\n",
    "study_results_path = \"data/Study_results.csv\"\n",
    "\n",
    "# Read the mouse data and the study results\n",
    "mouse_metadata = pd.read_csv(mouse_metadata_path)\n",
    "study_results = pd.read_csv(study_results_path)\n",
    "\n",
    "# Combine the data into a single dataset\n",
    "merge_mouse_data_df = pd.merge(mouse_metadata, study_results, how=\"left\", on=\"Mouse ID\")\n",
    "merge_mouse_data_df.head()"
   ]
  },
  {
   "cell_type": "code",
   "execution_count": 2,
   "metadata": {},
   "outputs": [
    {
     "data": {
      "text/plain": [
       "249"
      ]
     },
     "execution_count": 2,
     "metadata": {},
     "output_type": "execute_result"
    }
   ],
   "source": [
    "# Checking the number of mice in the DataFrame\n",
    "len(merge_mouse_data_df[\"Mouse ID\"].unique())\n"
   ]
  },
  {
   "cell_type": "code",
   "execution_count": 3,
   "metadata": {},
   "outputs": [
    {
     "data": {
      "text/plain": [
       "array(['g989'], dtype=object)"
      ]
     },
     "execution_count": 3,
     "metadata": {},
     "output_type": "execute_result"
    }
   ],
   "source": [
    "# Getting the duplicate mice by ID number that shows up for Mouse ID and Timepoint. \n",
    "duplicate_mouse_ids = merge_mouse_data_df.loc[merge_mouse_data_df.duplicated(subset=['Mouse ID', 'Timepoint']),'Mouse ID'].unique()\n",
    "duplicate_mouse_ids\n"
   ]
  },
  {
   "cell_type": "code",
   "execution_count": 4,
   "metadata": {},
   "outputs": [
    {
     "data": {
      "text/html": [
       "<div>\n",
       "<style scoped>\n",
       "    .dataframe tbody tr th:only-of-type {\n",
       "        vertical-align: middle;\n",
       "    }\n",
       "\n",
       "    .dataframe tbody tr th {\n",
       "        vertical-align: top;\n",
       "    }\n",
       "\n",
       "    .dataframe thead th {\n",
       "        text-align: right;\n",
       "    }\n",
       "</style>\n",
       "<table border=\"1\" class=\"dataframe\">\n",
       "  <thead>\n",
       "    <tr style=\"text-align: right;\">\n",
       "      <th></th>\n",
       "      <th>Mouse ID</th>\n",
       "      <th>Drug Regimen</th>\n",
       "      <th>Sex</th>\n",
       "      <th>Age_months</th>\n",
       "      <th>Weight (g)</th>\n",
       "      <th>Timepoint</th>\n",
       "      <th>Tumor Volume (mm3)</th>\n",
       "      <th>Metastatic Sites</th>\n",
       "    </tr>\n",
       "  </thead>\n",
       "  <tbody>\n",
       "    <tr>\n",
       "      <th>908</th>\n",
       "      <td>g989</td>\n",
       "      <td>Propriva</td>\n",
       "      <td>Female</td>\n",
       "      <td>21</td>\n",
       "      <td>26</td>\n",
       "      <td>0</td>\n",
       "      <td>45.000000</td>\n",
       "      <td>0</td>\n",
       "    </tr>\n",
       "    <tr>\n",
       "      <th>909</th>\n",
       "      <td>g989</td>\n",
       "      <td>Propriva</td>\n",
       "      <td>Female</td>\n",
       "      <td>21</td>\n",
       "      <td>26</td>\n",
       "      <td>0</td>\n",
       "      <td>45.000000</td>\n",
       "      <td>0</td>\n",
       "    </tr>\n",
       "    <tr>\n",
       "      <th>910</th>\n",
       "      <td>g989</td>\n",
       "      <td>Propriva</td>\n",
       "      <td>Female</td>\n",
       "      <td>21</td>\n",
       "      <td>26</td>\n",
       "      <td>5</td>\n",
       "      <td>48.786801</td>\n",
       "      <td>0</td>\n",
       "    </tr>\n",
       "    <tr>\n",
       "      <th>911</th>\n",
       "      <td>g989</td>\n",
       "      <td>Propriva</td>\n",
       "      <td>Female</td>\n",
       "      <td>21</td>\n",
       "      <td>26</td>\n",
       "      <td>5</td>\n",
       "      <td>47.570392</td>\n",
       "      <td>0</td>\n",
       "    </tr>\n",
       "    <tr>\n",
       "      <th>912</th>\n",
       "      <td>g989</td>\n",
       "      <td>Propriva</td>\n",
       "      <td>Female</td>\n",
       "      <td>21</td>\n",
       "      <td>26</td>\n",
       "      <td>10</td>\n",
       "      <td>51.745156</td>\n",
       "      <td>0</td>\n",
       "    </tr>\n",
       "    <tr>\n",
       "      <th>913</th>\n",
       "      <td>g989</td>\n",
       "      <td>Propriva</td>\n",
       "      <td>Female</td>\n",
       "      <td>21</td>\n",
       "      <td>26</td>\n",
       "      <td>10</td>\n",
       "      <td>49.880528</td>\n",
       "      <td>0</td>\n",
       "    </tr>\n",
       "    <tr>\n",
       "      <th>914</th>\n",
       "      <td>g989</td>\n",
       "      <td>Propriva</td>\n",
       "      <td>Female</td>\n",
       "      <td>21</td>\n",
       "      <td>26</td>\n",
       "      <td>15</td>\n",
       "      <td>51.325852</td>\n",
       "      <td>1</td>\n",
       "    </tr>\n",
       "    <tr>\n",
       "      <th>915</th>\n",
       "      <td>g989</td>\n",
       "      <td>Propriva</td>\n",
       "      <td>Female</td>\n",
       "      <td>21</td>\n",
       "      <td>26</td>\n",
       "      <td>15</td>\n",
       "      <td>53.442020</td>\n",
       "      <td>0</td>\n",
       "    </tr>\n",
       "    <tr>\n",
       "      <th>916</th>\n",
       "      <td>g989</td>\n",
       "      <td>Propriva</td>\n",
       "      <td>Female</td>\n",
       "      <td>21</td>\n",
       "      <td>26</td>\n",
       "      <td>20</td>\n",
       "      <td>55.326122</td>\n",
       "      <td>1</td>\n",
       "    </tr>\n",
       "    <tr>\n",
       "      <th>917</th>\n",
       "      <td>g989</td>\n",
       "      <td>Propriva</td>\n",
       "      <td>Female</td>\n",
       "      <td>21</td>\n",
       "      <td>26</td>\n",
       "      <td>20</td>\n",
       "      <td>54.657650</td>\n",
       "      <td>1</td>\n",
       "    </tr>\n",
       "    <tr>\n",
       "      <th>918</th>\n",
       "      <td>g989</td>\n",
       "      <td>Propriva</td>\n",
       "      <td>Female</td>\n",
       "      <td>21</td>\n",
       "      <td>26</td>\n",
       "      <td>25</td>\n",
       "      <td>56.045564</td>\n",
       "      <td>1</td>\n",
       "    </tr>\n",
       "    <tr>\n",
       "      <th>919</th>\n",
       "      <td>g989</td>\n",
       "      <td>Propriva</td>\n",
       "      <td>Female</td>\n",
       "      <td>21</td>\n",
       "      <td>26</td>\n",
       "      <td>30</td>\n",
       "      <td>59.082294</td>\n",
       "      <td>1</td>\n",
       "    </tr>\n",
       "    <tr>\n",
       "      <th>920</th>\n",
       "      <td>g989</td>\n",
       "      <td>Propriva</td>\n",
       "      <td>Female</td>\n",
       "      <td>21</td>\n",
       "      <td>26</td>\n",
       "      <td>35</td>\n",
       "      <td>62.570880</td>\n",
       "      <td>2</td>\n",
       "    </tr>\n",
       "  </tbody>\n",
       "</table>\n",
       "</div>"
      ],
      "text/plain": [
       "    Mouse ID Drug Regimen     Sex  Age_months  Weight (g)  Timepoint  \\\n",
       "908     g989     Propriva  Female          21          26          0   \n",
       "909     g989     Propriva  Female          21          26          0   \n",
       "910     g989     Propriva  Female          21          26          5   \n",
       "911     g989     Propriva  Female          21          26          5   \n",
       "912     g989     Propriva  Female          21          26         10   \n",
       "913     g989     Propriva  Female          21          26         10   \n",
       "914     g989     Propriva  Female          21          26         15   \n",
       "915     g989     Propriva  Female          21          26         15   \n",
       "916     g989     Propriva  Female          21          26         20   \n",
       "917     g989     Propriva  Female          21          26         20   \n",
       "918     g989     Propriva  Female          21          26         25   \n",
       "919     g989     Propriva  Female          21          26         30   \n",
       "920     g989     Propriva  Female          21          26         35   \n",
       "\n",
       "     Tumor Volume (mm3)  Metastatic Sites  \n",
       "908           45.000000                 0  \n",
       "909           45.000000                 0  \n",
       "910           48.786801                 0  \n",
       "911           47.570392                 0  \n",
       "912           51.745156                 0  \n",
       "913           49.880528                 0  \n",
       "914           51.325852                 1  \n",
       "915           53.442020                 0  \n",
       "916           55.326122                 1  \n",
       "917           54.657650                 1  \n",
       "918           56.045564                 1  \n",
       "919           59.082294                 1  \n",
       "920           62.570880                 2  "
      ]
     },
     "execution_count": 4,
     "metadata": {},
     "output_type": "execute_result"
    }
   ],
   "source": [
    "# Optional: Get all the data for the duplicate mouse ID. \n",
    "duplicate_mouse_data = merge_mouse_data_df.loc[merge_mouse_data_df[\"Mouse ID\"] == \"g989\"]\n",
    "duplicate_mouse_data\n"
   ]
  },
  {
   "cell_type": "code",
   "execution_count": 5,
   "metadata": {},
   "outputs": [
    {
     "data": {
      "text/html": [
       "<div>\n",
       "<style scoped>\n",
       "    .dataframe tbody tr th:only-of-type {\n",
       "        vertical-align: middle;\n",
       "    }\n",
       "\n",
       "    .dataframe tbody tr th {\n",
       "        vertical-align: top;\n",
       "    }\n",
       "\n",
       "    .dataframe thead th {\n",
       "        text-align: right;\n",
       "    }\n",
       "</style>\n",
       "<table border=\"1\" class=\"dataframe\">\n",
       "  <thead>\n",
       "    <tr style=\"text-align: right;\">\n",
       "      <th></th>\n",
       "      <th>Mouse ID</th>\n",
       "      <th>Drug Regimen</th>\n",
       "      <th>Sex</th>\n",
       "      <th>Age_months</th>\n",
       "      <th>Weight (g)</th>\n",
       "      <th>Timepoint</th>\n",
       "      <th>Tumor Volume (mm3)</th>\n",
       "      <th>Metastatic Sites</th>\n",
       "    </tr>\n",
       "  </thead>\n",
       "  <tbody>\n",
       "    <tr>\n",
       "      <th>0</th>\n",
       "      <td>k403</td>\n",
       "      <td>Ramicane</td>\n",
       "      <td>Male</td>\n",
       "      <td>21</td>\n",
       "      <td>16</td>\n",
       "      <td>0</td>\n",
       "      <td>45.000000</td>\n",
       "      <td>0</td>\n",
       "    </tr>\n",
       "    <tr>\n",
       "      <th>1</th>\n",
       "      <td>k403</td>\n",
       "      <td>Ramicane</td>\n",
       "      <td>Male</td>\n",
       "      <td>21</td>\n",
       "      <td>16</td>\n",
       "      <td>5</td>\n",
       "      <td>38.825898</td>\n",
       "      <td>0</td>\n",
       "    </tr>\n",
       "    <tr>\n",
       "      <th>2</th>\n",
       "      <td>k403</td>\n",
       "      <td>Ramicane</td>\n",
       "      <td>Male</td>\n",
       "      <td>21</td>\n",
       "      <td>16</td>\n",
       "      <td>10</td>\n",
       "      <td>35.014271</td>\n",
       "      <td>1</td>\n",
       "    </tr>\n",
       "    <tr>\n",
       "      <th>3</th>\n",
       "      <td>k403</td>\n",
       "      <td>Ramicane</td>\n",
       "      <td>Male</td>\n",
       "      <td>21</td>\n",
       "      <td>16</td>\n",
       "      <td>15</td>\n",
       "      <td>34.223992</td>\n",
       "      <td>1</td>\n",
       "    </tr>\n",
       "    <tr>\n",
       "      <th>4</th>\n",
       "      <td>k403</td>\n",
       "      <td>Ramicane</td>\n",
       "      <td>Male</td>\n",
       "      <td>21</td>\n",
       "      <td>16</td>\n",
       "      <td>20</td>\n",
       "      <td>32.997729</td>\n",
       "      <td>1</td>\n",
       "    </tr>\n",
       "    <tr>\n",
       "      <th>...</th>\n",
       "      <td>...</td>\n",
       "      <td>...</td>\n",
       "      <td>...</td>\n",
       "      <td>...</td>\n",
       "      <td>...</td>\n",
       "      <td>...</td>\n",
       "      <td>...</td>\n",
       "      <td>...</td>\n",
       "    </tr>\n",
       "    <tr>\n",
       "      <th>95</th>\n",
       "      <td>u364</td>\n",
       "      <td>Capomulin</td>\n",
       "      <td>Male</td>\n",
       "      <td>18</td>\n",
       "      <td>17</td>\n",
       "      <td>0</td>\n",
       "      <td>45.000000</td>\n",
       "      <td>0</td>\n",
       "    </tr>\n",
       "    <tr>\n",
       "      <th>96</th>\n",
       "      <td>u364</td>\n",
       "      <td>Capomulin</td>\n",
       "      <td>Male</td>\n",
       "      <td>18</td>\n",
       "      <td>17</td>\n",
       "      <td>5</td>\n",
       "      <td>45.760886</td>\n",
       "      <td>1</td>\n",
       "    </tr>\n",
       "    <tr>\n",
       "      <th>97</th>\n",
       "      <td>u364</td>\n",
       "      <td>Capomulin</td>\n",
       "      <td>Male</td>\n",
       "      <td>18</td>\n",
       "      <td>17</td>\n",
       "      <td>10</td>\n",
       "      <td>46.568417</td>\n",
       "      <td>2</td>\n",
       "    </tr>\n",
       "    <tr>\n",
       "      <th>98</th>\n",
       "      <td>u364</td>\n",
       "      <td>Capomulin</td>\n",
       "      <td>Male</td>\n",
       "      <td>18</td>\n",
       "      <td>17</td>\n",
       "      <td>15</td>\n",
       "      <td>47.212200</td>\n",
       "      <td>2</td>\n",
       "    </tr>\n",
       "    <tr>\n",
       "      <th>99</th>\n",
       "      <td>u364</td>\n",
       "      <td>Capomulin</td>\n",
       "      <td>Male</td>\n",
       "      <td>18</td>\n",
       "      <td>17</td>\n",
       "      <td>20</td>\n",
       "      <td>40.343948</td>\n",
       "      <td>2</td>\n",
       "    </tr>\n",
       "  </tbody>\n",
       "</table>\n",
       "<p>100 rows × 8 columns</p>\n",
       "</div>"
      ],
      "text/plain": [
       "   Mouse ID Drug Regimen   Sex  Age_months  Weight (g)  Timepoint  \\\n",
       "0      k403     Ramicane  Male          21          16          0   \n",
       "1      k403     Ramicane  Male          21          16          5   \n",
       "2      k403     Ramicane  Male          21          16         10   \n",
       "3      k403     Ramicane  Male          21          16         15   \n",
       "4      k403     Ramicane  Male          21          16         20   \n",
       "..      ...          ...   ...         ...         ...        ...   \n",
       "95     u364    Capomulin  Male          18          17          0   \n",
       "96     u364    Capomulin  Male          18          17          5   \n",
       "97     u364    Capomulin  Male          18          17         10   \n",
       "98     u364    Capomulin  Male          18          17         15   \n",
       "99     u364    Capomulin  Male          18          17         20   \n",
       "\n",
       "    Tumor Volume (mm3)  Metastatic Sites  \n",
       "0            45.000000                 0  \n",
       "1            38.825898                 0  \n",
       "2            35.014271                 1  \n",
       "3            34.223992                 1  \n",
       "4            32.997729                 1  \n",
       "..                 ...               ...  \n",
       "95           45.000000                 0  \n",
       "96           45.760886                 1  \n",
       "97           46.568417                 2  \n",
       "98           47.212200                 2  \n",
       "99           40.343948                 2  \n",
       "\n",
       "[100 rows x 8 columns]"
      ]
     },
     "execution_count": 5,
     "metadata": {},
     "output_type": "execute_result"
    }
   ],
   "source": [
    "# Create a clean DataFrame by dropping the duplicate mouse by its ID.\n",
    "cleaned_merge_mouse_data_df = merge_mouse_data_df[merge_mouse_data_df['Mouse ID'].isin(duplicate_mouse_ids)==False]\n",
    "cleaned_merge_mouse_data_df.head(100)\n"
   ]
  },
  {
   "cell_type": "code",
   "execution_count": 6,
   "metadata": {},
   "outputs": [
    {
     "data": {
      "text/plain": [
       "248"
      ]
     },
     "execution_count": 6,
     "metadata": {},
     "output_type": "execute_result"
    }
   ],
   "source": [
    "# Checking the number of mice in the clean DataFrame.\n",
    "len(cleaned_merge_mouse_data_df[\"Mouse ID\"].unique())\n"
   ]
  },
  {
   "cell_type": "markdown",
   "metadata": {},
   "source": [
    "## Summary Statistics"
   ]
  },
  {
   "cell_type": "code",
   "execution_count": 21,
   "metadata": {},
   "outputs": [
    {
     "data": {
      "text/html": [
       "<div>\n",
       "<style scoped>\n",
       "    .dataframe tbody tr th:only-of-type {\n",
       "        vertical-align: middle;\n",
       "    }\n",
       "\n",
       "    .dataframe tbody tr th {\n",
       "        vertical-align: top;\n",
       "    }\n",
       "\n",
       "    .dataframe thead th {\n",
       "        text-align: right;\n",
       "    }\n",
       "</style>\n",
       "<table border=\"1\" class=\"dataframe\">\n",
       "  <thead>\n",
       "    <tr style=\"text-align: right;\">\n",
       "      <th></th>\n",
       "      <th>Mean</th>\n",
       "      <th>Median</th>\n",
       "      <th>StDev</th>\n",
       "      <th>Variance</th>\n",
       "      <th>SEM</th>\n",
       "    </tr>\n",
       "    <tr>\n",
       "      <th>Drug Regimen</th>\n",
       "      <th></th>\n",
       "      <th></th>\n",
       "      <th></th>\n",
       "      <th></th>\n",
       "      <th></th>\n",
       "    </tr>\n",
       "  </thead>\n",
       "  <tbody>\n",
       "    <tr>\n",
       "      <th>Capomulin</th>\n",
       "      <td>40.675741</td>\n",
       "      <td>41.557809</td>\n",
       "      <td>4.994774</td>\n",
       "      <td>24.947764</td>\n",
       "      <td>0.329346</td>\n",
       "    </tr>\n",
       "    <tr>\n",
       "      <th>Ceftamin</th>\n",
       "      <td>52.591172</td>\n",
       "      <td>51.776157</td>\n",
       "      <td>6.268188</td>\n",
       "      <td>39.290177</td>\n",
       "      <td>0.469821</td>\n",
       "    </tr>\n",
       "    <tr>\n",
       "      <th>Infubinol</th>\n",
       "      <td>52.884795</td>\n",
       "      <td>51.820584</td>\n",
       "      <td>6.567243</td>\n",
       "      <td>43.128684</td>\n",
       "      <td>0.492236</td>\n",
       "    </tr>\n",
       "    <tr>\n",
       "      <th>Ketapril</th>\n",
       "      <td>55.235638</td>\n",
       "      <td>53.698743</td>\n",
       "      <td>8.279709</td>\n",
       "      <td>68.553577</td>\n",
       "      <td>0.603860</td>\n",
       "    </tr>\n",
       "    <tr>\n",
       "      <th>Naftisol</th>\n",
       "      <td>54.331565</td>\n",
       "      <td>52.509285</td>\n",
       "      <td>8.134708</td>\n",
       "      <td>66.173479</td>\n",
       "      <td>0.596466</td>\n",
       "    </tr>\n",
       "    <tr>\n",
       "      <th>Placebo</th>\n",
       "      <td>54.033581</td>\n",
       "      <td>52.288934</td>\n",
       "      <td>7.821003</td>\n",
       "      <td>61.168083</td>\n",
       "      <td>0.581331</td>\n",
       "    </tr>\n",
       "    <tr>\n",
       "      <th>Propriva</th>\n",
       "      <td>52.320930</td>\n",
       "      <td>50.446266</td>\n",
       "      <td>6.622085</td>\n",
       "      <td>43.852013</td>\n",
       "      <td>0.544332</td>\n",
       "    </tr>\n",
       "    <tr>\n",
       "      <th>Ramicane</th>\n",
       "      <td>40.216745</td>\n",
       "      <td>40.673236</td>\n",
       "      <td>4.846308</td>\n",
       "      <td>23.486704</td>\n",
       "      <td>0.320955</td>\n",
       "    </tr>\n",
       "    <tr>\n",
       "      <th>Stelasyn</th>\n",
       "      <td>54.233149</td>\n",
       "      <td>52.431737</td>\n",
       "      <td>7.710419</td>\n",
       "      <td>59.450562</td>\n",
       "      <td>0.573111</td>\n",
       "    </tr>\n",
       "    <tr>\n",
       "      <th>Zoniferol</th>\n",
       "      <td>53.236507</td>\n",
       "      <td>51.818479</td>\n",
       "      <td>6.966589</td>\n",
       "      <td>48.533355</td>\n",
       "      <td>0.516398</td>\n",
       "    </tr>\n",
       "  </tbody>\n",
       "</table>\n",
       "</div>"
      ],
      "text/plain": [
       "                   Mean     Median     StDev   Variance       SEM\n",
       "Drug Regimen                                                     \n",
       "Capomulin     40.675741  41.557809  4.994774  24.947764  0.329346\n",
       "Ceftamin      52.591172  51.776157  6.268188  39.290177  0.469821\n",
       "Infubinol     52.884795  51.820584  6.567243  43.128684  0.492236\n",
       "Ketapril      55.235638  53.698743  8.279709  68.553577  0.603860\n",
       "Naftisol      54.331565  52.509285  8.134708  66.173479  0.596466\n",
       "Placebo       54.033581  52.288934  7.821003  61.168083  0.581331\n",
       "Propriva      52.320930  50.446266  6.622085  43.852013  0.544332\n",
       "Ramicane      40.216745  40.673236  4.846308  23.486704  0.320955\n",
       "Stelasyn      54.233149  52.431737  7.710419  59.450562  0.573111\n",
       "Zoniferol     53.236507  51.818479  6.966589  48.533355  0.516398"
      ]
     },
     "execution_count": 21,
     "metadata": {},
     "output_type": "execute_result"
    }
   ],
   "source": [
    "# Generate a summary statistics table of mean, median, variance, standard deviation, and SEM of the tumor volume for each regimen\n",
    "\n",
    "drug_reg_mean_total = cleaned_merge_mouse_data_df.groupby('Drug Regimen').mean()['Tumor Volume (mm3)']\n",
    "drug_reg_median_total = cleaned_merge_mouse_data_df.groupby('Drug Regimen').median()['Tumor Volume (mm3)']\n",
    "drug_reg_variance_total = cleaned_merge_mouse_data_df.groupby('Drug Regimen').var()['Tumor Volume (mm3)']\n",
    "drug_reg_stdev = cleaned_merge_mouse_data_df.groupby('Drug Regimen').std()['Tumor Volume (mm3)']\n",
    "drug_reg_sem = cleaned_merge_mouse_data_df.groupby('Drug Regimen').sem()['Tumor Volume (mm3)']\n",
    "newtable = pd.DataFrame(drug_reg_mean_total)\n",
    "newtable2 = newtable.rename(columns={\"Tumor Volume (mm3)\": \"Mean\"})\n",
    "newtable2[\"Median\"] = drug_reg_median_total\n",
    "newtable2[\"StDev\"] = drug_reg_stdev\n",
    "newtable2[\"Variance\"] = drug_reg_variance_total\n",
    "newtable2[\"SEM\"] = drug_reg_sem\n",
    "\n",
    "newtable2\n",
    "# This method is the most straightforward, creating multiple series and putting them all together at the end."
   ]
  },
  {
   "cell_type": "code",
   "execution_count": 8,
   "metadata": {
    "scrolled": true
   },
   "outputs": [
    {
     "data": {
      "text/html": [
       "<div>\n",
       "<style scoped>\n",
       "    .dataframe tbody tr th:only-of-type {\n",
       "        vertical-align: middle;\n",
       "    }\n",
       "\n",
       "    .dataframe tbody tr th {\n",
       "        vertical-align: top;\n",
       "    }\n",
       "\n",
       "    .dataframe thead tr th {\n",
       "        text-align: left;\n",
       "    }\n",
       "\n",
       "    .dataframe thead tr:last-of-type th {\n",
       "        text-align: right;\n",
       "    }\n",
       "</style>\n",
       "<table border=\"1\" class=\"dataframe\">\n",
       "  <thead>\n",
       "    <tr>\n",
       "      <th></th>\n",
       "      <th colspan=\"5\" halign=\"left\">Tumor Volume (mm3)</th>\n",
       "    </tr>\n",
       "    <tr>\n",
       "      <th></th>\n",
       "      <th>mean</th>\n",
       "      <th>median</th>\n",
       "      <th>std</th>\n",
       "      <th>var</th>\n",
       "      <th>sem</th>\n",
       "    </tr>\n",
       "    <tr>\n",
       "      <th>Drug Regimen</th>\n",
       "      <th></th>\n",
       "      <th></th>\n",
       "      <th></th>\n",
       "      <th></th>\n",
       "      <th></th>\n",
       "    </tr>\n",
       "  </thead>\n",
       "  <tbody>\n",
       "    <tr>\n",
       "      <th>Capomulin</th>\n",
       "      <td>40.675741</td>\n",
       "      <td>41.557809</td>\n",
       "      <td>4.994774</td>\n",
       "      <td>24.947764</td>\n",
       "      <td>0.329346</td>\n",
       "    </tr>\n",
       "    <tr>\n",
       "      <th>Ceftamin</th>\n",
       "      <td>52.591172</td>\n",
       "      <td>51.776157</td>\n",
       "      <td>6.268188</td>\n",
       "      <td>39.290177</td>\n",
       "      <td>0.469821</td>\n",
       "    </tr>\n",
       "    <tr>\n",
       "      <th>Infubinol</th>\n",
       "      <td>52.884795</td>\n",
       "      <td>51.820584</td>\n",
       "      <td>6.567243</td>\n",
       "      <td>43.128684</td>\n",
       "      <td>0.492236</td>\n",
       "    </tr>\n",
       "    <tr>\n",
       "      <th>Ketapril</th>\n",
       "      <td>55.235638</td>\n",
       "      <td>53.698743</td>\n",
       "      <td>8.279709</td>\n",
       "      <td>68.553577</td>\n",
       "      <td>0.603860</td>\n",
       "    </tr>\n",
       "    <tr>\n",
       "      <th>Naftisol</th>\n",
       "      <td>54.331565</td>\n",
       "      <td>52.509285</td>\n",
       "      <td>8.134708</td>\n",
       "      <td>66.173479</td>\n",
       "      <td>0.596466</td>\n",
       "    </tr>\n",
       "    <tr>\n",
       "      <th>Placebo</th>\n",
       "      <td>54.033581</td>\n",
       "      <td>52.288934</td>\n",
       "      <td>7.821003</td>\n",
       "      <td>61.168083</td>\n",
       "      <td>0.581331</td>\n",
       "    </tr>\n",
       "    <tr>\n",
       "      <th>Propriva</th>\n",
       "      <td>52.320930</td>\n",
       "      <td>50.446266</td>\n",
       "      <td>6.622085</td>\n",
       "      <td>43.852013</td>\n",
       "      <td>0.544332</td>\n",
       "    </tr>\n",
       "    <tr>\n",
       "      <th>Ramicane</th>\n",
       "      <td>40.216745</td>\n",
       "      <td>40.673236</td>\n",
       "      <td>4.846308</td>\n",
       "      <td>23.486704</td>\n",
       "      <td>0.320955</td>\n",
       "    </tr>\n",
       "    <tr>\n",
       "      <th>Stelasyn</th>\n",
       "      <td>54.233149</td>\n",
       "      <td>52.431737</td>\n",
       "      <td>7.710419</td>\n",
       "      <td>59.450562</td>\n",
       "      <td>0.573111</td>\n",
       "    </tr>\n",
       "    <tr>\n",
       "      <th>Zoniferol</th>\n",
       "      <td>53.236507</td>\n",
       "      <td>51.818479</td>\n",
       "      <td>6.966589</td>\n",
       "      <td>48.533355</td>\n",
       "      <td>0.516398</td>\n",
       "    </tr>\n",
       "  </tbody>\n",
       "</table>\n",
       "</div>"
      ],
      "text/plain": [
       "             Tumor Volume (mm3)                                          \n",
       "                           mean     median       std        var       sem\n",
       "Drug Regimen                                                             \n",
       "Capomulin             40.675741  41.557809  4.994774  24.947764  0.329346\n",
       "Ceftamin              52.591172  51.776157  6.268188  39.290177  0.469821\n",
       "Infubinol             52.884795  51.820584  6.567243  43.128684  0.492236\n",
       "Ketapril              55.235638  53.698743  8.279709  68.553577  0.603860\n",
       "Naftisol              54.331565  52.509285  8.134708  66.173479  0.596466\n",
       "Placebo               54.033581  52.288934  7.821003  61.168083  0.581331\n",
       "Propriva              52.320930  50.446266  6.622085  43.852013  0.544332\n",
       "Ramicane              40.216745  40.673236  4.846308  23.486704  0.320955\n",
       "Stelasyn              54.233149  52.431737  7.710419  59.450562  0.573111\n",
       "Zoniferol             53.236507  51.818479  6.966589  48.533355  0.516398"
      ]
     },
     "execution_count": 8,
     "metadata": {},
     "output_type": "execute_result"
    }
   ],
   "source": [
    "# Generate a summary statistics table of mean, median, variance, standard deviation, and SEM of the tumor volume for each regimen\n",
    "grpstats = cleaned_merge_mouse_data_df.groupby('Drug Regimen').agg({'Tumor Volume (mm3)':['mean','median','std','var', 'sem']})\n",
    "grpstats\n",
    "# This method produces everything in a single groupby function."
   ]
  },
  {
   "cell_type": "markdown",
   "metadata": {},
   "source": [
    "## Bar Plots"
   ]
  },
  {
   "cell_type": "code",
   "execution_count": null,
   "metadata": {},
   "outputs": [],
   "source": []
  },
  {
   "cell_type": "code",
   "execution_count": 9,
   "metadata": {},
   "outputs": [
    {
     "data": {
      "image/png": "[encoded data removed]",
      "text/plain": [
       "<Figure size 432x288 with 1 Axes>"
      ]
     },
     "metadata": {
      "needs_background": "light"
     },
     "output_type": "display_data"
    },
    {
     "data": {
      "image/png": "[encoded data removed]",
      "text/plain": [
       "<Figure size 432x288 with 1 Axes>"
      ]
     },
     "metadata": {
      "needs_background": "light"
     },
     "output_type": "display_data"
    },
    {
     "data": {
      "image/png": "[encoded data removed]",
      "text/plain": [
       "<Figure size 432x288 with 1 Axes>"
      ]
     },
     "metadata": {
      "needs_background": "light"
     },
     "output_type": "display_data"
    },
    {
     "data": {
      "image/png": "[encoded data removed]",
      "text/plain": [
       "<Figure size 432x288 with 1 Axes>"
      ]
     },
     "metadata": {
      "needs_background": "light"
     },
     "output_type": "display_data"
    },
    {
     "data": {
      "image/png": "[encoded data removed]",
      "text/plain": [
       "<Figure size 432x288 with 1 Axes>"
      ]
     },
     "metadata": {
      "needs_background": "light"
     },
     "output_type": "display_data"
    },
    {
     "data": {
      "image/png": "[encoded data removed]",
      "text/plain": [
       "<Figure size 432x288 with 1 Axes>"
      ]
     },
     "metadata": {
      "needs_background": "light"
     },
     "output_type": "display_data"
    },
    {
     "data": {
      "image/png": "[encoded data removed]",
      "text/plain": [
       "<Figure size 432x288 with 1 Axes>"
      ]
     },
     "metadata": {
      "needs_background": "light"
     },
     "output_type": "display_data"
    },
    {
     "data": {
      "image/png": "[encoded data removed]",
      "text/plain": [
       "<Figure size 432x288 with 1 Axes>"
      ]
     },
     "metadata": {
      "needs_background": "light"
     },
     "output_type": "display_data"
    },
    {
     "data": {
      "image/png": "[encoded data removed]",
      "text/plain": [
       "<Figure size 432x288 with 1 Axes>"
      ]
     },
     "metadata": {
      "needs_background": "light"
     },
     "output_type": "display_data"
    },
    {
     "data": {
      "image/png": "[encoded data removed]",
      "text/plain": [
       "<Figure size 432x288 with 1 Axes>"
      ]
     },
     "metadata": {
      "needs_background": "light"
     },
     "output_type": "display_data"
    }
   ],
   "source": [
    "# Generate a bar plot showing the number of mice per time point for each treatment throughout the course of the study using pandas.\n",
    "#Use loc to create a new DF per Drug Regimen and then group that by the timepoint and the\n",
    "#mice in each of the timepoints\n",
    "#staticlly set the x and y axis values\n",
    "\n",
    "capomulin_df = cleaned_merge_mouse_data_df.loc[cleaned_merge_mouse_data_df[\"Drug Regimen\"]== \"Capomulin\",['Mouse ID','Drug Regimen','Sex','Age_months','Weight (g)','Timepoint','Tumor Volume (mm3)','Metastatic Sites']] \n",
    "capomulin_df.groupby('Timepoint')['Mouse ID'].nunique().plot(kind='bar')\n",
    "plt.title(\"Count of Mice in each Timepoint of the Capomulin Study\")\n",
    "plt.show()\n",
    "\n",
    "ceftamin_df = cleaned_merge_mouse_data_df.loc[cleaned_merge_mouse_data_df[\"Drug Regimen\"]== \"Ceftamin\",['Mouse ID','Drug Regimen','Sex','Age_months','Weight (g)','Timepoint','Tumor Volume (mm3)','Metastatic Sites']] \n",
    "ceftamin_df.groupby('Timepoint')['Mouse ID'].nunique().plot(kind='bar')\n",
    "plt.title(\"Count of Mice in each Timepoint of the Ceftamin Study\")\n",
    "plt.show()\n",
    "\n",
    "infubinol_df = cleaned_merge_mouse_data_df.loc[cleaned_merge_mouse_data_df[\"Drug Regimen\"]== \"Infubinol\",['Mouse ID','Drug Regimen','Sex','Age_months','Weight (g)','Timepoint','Tumor Volume (mm3)','Metastatic Sites']] \n",
    "infubinol_df.groupby('Timepoint')['Mouse ID'].nunique().plot(kind='bar')\n",
    "plt.title(\"Count of Mice in each Timepoint of the Infubinol Study\")\n",
    "plt.show()\n",
    "\n",
    "ketapril_df = cleaned_merge_mouse_data_df.loc[cleaned_merge_mouse_data_df[\"Drug Regimen\"]== \"Ketapril\",['Mouse ID','Drug Regimen','Sex','Age_months','Weight (g)','Timepoint','Tumor Volume (mm3)','Metastatic Sites']] \n",
    "ketapril_df.groupby('Timepoint')['Mouse ID'].nunique().plot(kind='bar')\n",
    "plt.title(\"Count of Mice in each Timepoint of the Ketapril Study\")\n",
    "plt.show()\n",
    "\n",
    "naftisol_df = cleaned_merge_mouse_data_df.loc[cleaned_merge_mouse_data_df[\"Drug Regimen\"]== \"Naftisol\",['Mouse ID','Drug Regimen','Sex','Age_months','Weight (g)','Timepoint','Tumor Volume (mm3)','Metastatic Sites']] \n",
    "naftisol_df.groupby('Timepoint')['Mouse ID'].nunique().plot(kind='bar')\n",
    "plt.title(\"Count of Mice in each Timepoint of the Naftisol Study\")\n",
    "plt.show()\n",
    "\n",
    "placebo_df = cleaned_merge_mouse_data_df.loc[cleaned_merge_mouse_data_df[\"Drug Regimen\"]== \"Placebo\",['Mouse ID','Drug Regimen','Sex','Age_months','Weight (g)','Timepoint','Tumor Volume (mm3)','Metastatic Sites']] \n",
    "placebo_df.groupby('Timepoint')['Mouse ID'].nunique().plot(kind='bar')\n",
    "plt.title(\"Count of Mice in each Timepoint of the Placebo Study\")\n",
    "plt.show()\n",
    "\n",
    "propriva_df = cleaned_merge_mouse_data_df.loc[cleaned_merge_mouse_data_df[\"Drug Regimen\"]== \"Propriva\",['Mouse ID','Drug Regimen','Sex','Age_months','Weight (g)','Timepoint','Tumor Volume (mm3)','Metastatic Sites']] \n",
    "propriva_df.groupby('Timepoint')['Mouse ID'].nunique().plot(kind='bar')\n",
    "plt.title(\"Count of Mice in each Timepoint of the propriva Study\")\n",
    "plt.show()\n",
    "\n",
    "ramicane_df = cleaned_merge_mouse_data_df.loc[cleaned_merge_mouse_data_df[\"Drug Regimen\"]== \"Ramicane\",['Mouse ID','Drug Regimen','Sex','Age_months','Weight (g)','Timepoint','Tumor Volume (mm3)','Metastatic Sites']] \n",
    "ramicane_df.groupby('Timepoint')['Mouse ID'].nunique().plot(kind='bar')\n",
    "plt.title(\"Count of Mice in each Timepoint of the Ramicane Study\")\n",
    "plt.show()\n",
    "\n",
    "stelasyn_df = cleaned_merge_mouse_data_df.loc[cleaned_merge_mouse_data_df[\"Drug Regimen\"]== \"Stelasyn\",['Mouse ID','Drug Regimen','Sex','Age_months','Weight (g)','Timepoint','Tumor Volume (mm3)','Metastatic Sites']] \n",
    "stelasyn_df.groupby('Timepoint')['Mouse ID'].nunique().plot(kind='bar')\n",
    "plt.title(\"Count of Mice in each Timepoint of the Stelasyn Study\")\n",
    "plt.show()\n",
    "\n",
    "Zoniferol_df = cleaned_merge_mouse_data_df.loc[cleaned_merge_mouse_data_df[\"Drug Regimen\"]== \"Zoniferol\",['Mouse ID','Drug Regimen','Sex','Age_months','Weight (g)','Timepoint','Tumor Volume (mm3)','Metastatic Sites']] \n",
    "Zoniferol_df.groupby('Timepoint')['Mouse ID'].nunique().plot(kind='bar')\n",
    "plt.title(\"Count of Mice in each Timepoint of the Zoniferol Study\")\n",
    "plt.show()\n",
    "\n",
    "\n",
    "\n",
    "\n",
    "\n",
    "\n"
   ]
  },
  {
   "cell_type": "code",
   "execution_count": 10,
   "metadata": {},
   "outputs": [
    {
     "data": {
      "image/png": "[encoded data removed]",
      "text/plain": [
       "<Figure size 432x288 with 1 Axes>"
      ]
     },
     "metadata": {
      "needs_background": "light"
     },
     "output_type": "display_data"
    },
    {
     "data": {
      "image/png": "[encoded data removed]",
      "text/plain": [
       "<Figure size 432x288 with 1 Axes>"
      ]
     },
     "metadata": {
      "needs_background": "light"
     },
     "output_type": "display_data"
    },
    {
     "data": {
      "image/png": "[encoded data removed]",
      "text/plain": [
       "<Figure size 432x288 with 1 Axes>"
      ]
     },
     "metadata": {
      "needs_background": "light"
     },
     "output_type": "display_data"
    },
    {
     "data": {
      "image/png": "[encoded data removed]",
      "text/plain": [
       "<Figure size 432x288 with 1 Axes>"
      ]
     },
     "metadata": {
      "needs_background": "light"
     },
     "output_type": "display_data"
    },
    {
     "data": {
      "image/png": "[encoded data removed]",
      "text/plain": [
       "<Figure size 432x288 with 1 Axes>"
      ]
     },
     "metadata": {
      "needs_background": "light"
     },
     "output_type": "display_data"
    },
    {
     "data": {
      "image/png": "[encoded data removed]",
      "text/plain": [
       "<Figure size 432x288 with 1 Axes>"
      ]
     },
     "metadata": {
      "needs_background": "light"
     },
     "output_type": "display_data"
    },
    {
     "data": {
      "image/png": "[encoded data removed]",
      "text/plain": [
       "<Figure size 432x288 with 1 Axes>"
      ]
     },
     "metadata": {
      "needs_background": "light"
     },
     "output_type": "display_data"
    },
    {
     "data": {
      "image/png": "[encoded data removed]",
      "text/plain": [
       "<Figure size 432x288 with 1 Axes>"
      ]
     },
     "metadata": {
      "needs_background": "light"
     },
     "output_type": "display_data"
    },
    {
     "data": {
      "image/png": "[encoded data removed]",
      "text/plain": [
       "<Figure size 432x288 with 1 Axes>"
      ]
     },
     "metadata": {
      "needs_background": "light"
     },
     "output_type": "display_data"
    },
    {
     "data": {
      "image/png": "[encoded data removed]",
      "text/plain": [
       "<Figure size 432x288 with 1 Axes>"
      ]
     },
     "metadata": {
      "needs_background": "light"
     },
     "output_type": "display_data"
    }
   ],
   "source": [
    "# Generate a bar plot showing the number of mice per time point for each treatment throughout the course of the study using pyplot.\n",
    "py_capomulin_df = cleaned_merge_mouse_data_df.loc[cleaned_merge_mouse_data_df[\"Drug Regimen\"]== \"Capomulin\",['Mouse ID','Drug Regimen','Sex','Age_months','Weight (g)','Timepoint','Tumor Volume (mm3)','Metastatic Sites']] \n",
    "x_capomulin = py_capomulin_df['Timepoint'].unique()\n",
    "y_capomulin = py_capomulin_df.groupby('Timepoint')['Mouse ID'].nunique()\n",
    "plt.bar(x_capomulin,y_capomulin, width=3)\n",
    "plt.xticks(np.arange(0, 50, step=5))\n",
    "plt.xlabel(\"Timepoint\")\n",
    "plt.title(\"Count of Mice in each Timepoint of the Capomulin Study\")\n",
    "plt.show()\n",
    "\n",
    "\n",
    "py_ceftamin_df = cleaned_merge_mouse_data_df.loc[cleaned_merge_mouse_data_df[\"Drug Regimen\"]== \"Ceftamin\",['Mouse ID','Drug Regimen','Sex','Age_months','Weight (g)','Timepoint','Tumor Volume (mm3)','Metastatic Sites']] \n",
    "x_ceftamin = py_ceftamin_df['Timepoint'].unique()\n",
    "y_ceftamin = py_ceftamin_df.groupby('Timepoint')['Mouse ID'].nunique()\n",
    "plt.bar(x_ceftamin,y_ceftamin, width=3)\n",
    "plt.xticks(np.arange(0, 50, step=5))\n",
    "plt.xlabel(\"Timepoint\")\n",
    "plt.title(\"Count of Mice in each Timepoint of the Ceftamin Study\")\n",
    "plt.show()\n",
    "\n",
    "\n",
    "py_infubinol_df = cleaned_merge_mouse_data_df.loc[cleaned_merge_mouse_data_df[\"Drug Regimen\"]== \"Infubinol\",['Mouse ID','Drug Regimen','Sex','Age_months','Weight (g)','Timepoint','Tumor Volume (mm3)','Metastatic Sites']] \n",
    "x_infubinol= py_infubinol_df['Timepoint'].unique()\n",
    "y_infubinol = py_infubinol_df.groupby('Timepoint')['Mouse ID'].nunique()\n",
    "plt.bar(x_infubinol,y_infubinol, width=3)\n",
    "plt.xticks(np.arange(0, 50, step=5))\n",
    "plt.xlabel(\"Timepoint\")\n",
    "plt.title(\"Count of Mice in each Timepoint of the Infubinol Study\")\n",
    "plt.show()\n",
    "\n",
    "\n",
    "py_ketapril_df = cleaned_merge_mouse_data_df.loc[cleaned_merge_mouse_data_df[\"Drug Regimen\"]== \"Ketapril\",['Mouse ID','Drug Regimen','Sex','Age_months','Weight (g)','Timepoint','Tumor Volume (mm3)','Metastatic Sites']] \n",
    "x_ketapril = py_ketapril_df['Timepoint'].unique()\n",
    "y_ketapril = py_ketapril_df.groupby('Timepoint')['Mouse ID'].nunique()\n",
    "plt.bar(x_ketapril,y_ketapril, width=3)\n",
    "plt.xticks(np.arange(0, 50, step=5))\n",
    "plt.xlabel(\"Timepoint\")\n",
    "plt.title(\"Count of Mice in each Timepoint of the Ketapril Study\")\n",
    "plt.show()\n",
    "\n",
    "py_naftisol_df = cleaned_merge_mouse_data_df.loc[cleaned_merge_mouse_data_df[\"Drug Regimen\"]== \"Naftisol\",['Mouse ID','Drug Regimen','Sex','Age_months','Weight (g)','Timepoint','Tumor Volume (mm3)','Metastatic Sites']] \n",
    "x_naftisol = py_naftisol_df['Timepoint'].unique()\n",
    "y_naftisol = py_naftisol_df.groupby('Timepoint')['Mouse ID'].nunique()\n",
    "plt.bar(x_naftisol,y_naftisol, width=3)\n",
    "plt.xticks(np.arange(0, 50, step=5))\n",
    "plt.xlabel(\"Timepoint\")\n",
    "plt.title(\"Count of Mice in each Timepoint of the Naftisol Study\")\n",
    "plt.show()\n",
    "\n",
    "\n",
    "py_placebo_df = cleaned_merge_mouse_data_df.loc[cleaned_merge_mouse_data_df[\"Drug Regimen\"]== \"Placebo\",['Mouse ID','Drug Regimen','Sex','Age_months','Weight (g)','Timepoint','Tumor Volume (mm3)','Metastatic Sites']] \n",
    "x_placebo = py_placebo_df['Timepoint'].unique()\n",
    "y_placebo = py_placebo_df.groupby('Timepoint')['Mouse ID'].nunique()\n",
    "plt.bar(x_placebo,y_placebo, width=3)\n",
    "plt.xticks(np.arange(0, 50, step=5))\n",
    "plt.xlabel(\"Timepoint\")\n",
    "plt.title(\"Count of Mice in each Timepoint of the Placebo Study\")\n",
    "plt.show()\n",
    "\n",
    "py_propriva_df = cleaned_merge_mouse_data_df.loc[cleaned_merge_mouse_data_df[\"Drug Regimen\"]== \"Propriva\",['Mouse ID','Drug Regimen','Sex','Age_months','Weight (g)','Timepoint','Tumor Volume (mm3)','Metastatic Sites']] \n",
    "x_propriva = py_propriva_df['Timepoint'].unique()\n",
    "y_propriva = py_propriva_df.groupby('Timepoint')['Mouse ID'].nunique()\n",
    "plt.bar(x_propriva,y_propriva, width=3)\n",
    "plt.xticks(np.arange(0, 50, step=5))\n",
    "plt.xlabel(\"Timepoint\")\n",
    "plt.title(\"Count of Mice in each Timepoint of the Propriva Study\")\n",
    "plt.show()\n",
    "\n",
    "py_ramicane_df = cleaned_merge_mouse_data_df.loc[cleaned_merge_mouse_data_df[\"Drug Regimen\"]== \"Ramicane\",['Mouse ID','Drug Regimen','Sex','Age_months','Weight (g)','Timepoint','Tumor Volume (mm3)','Metastatic Sites']] \n",
    "x_ramicane = py_ramicane_df['Timepoint'].unique()\n",
    "y_ramicane = py_ramicane_df.groupby('Timepoint')['Mouse ID'].nunique()\n",
    "plt.bar(x_ramicane,y_ramicane, width=3)\n",
    "plt.xticks(np.arange(0, 50, step=5))\n",
    "plt.xlabel(\"Timepoint\")\n",
    "plt.title(\"Count of Mice in each Timepoint of the Ramicane Study\")\n",
    "plt.show()\n",
    "\n",
    "py_stelasyn_df = cleaned_merge_mouse_data_df.loc[cleaned_merge_mouse_data_df[\"Drug Regimen\"]== \"Stelasyn\",['Mouse ID','Drug Regimen','Sex','Age_months','Weight (g)','Timepoint','Tumor Volume (mm3)','Metastatic Sites']] \n",
    "x_stelasyn = py_stelasyn_df['Timepoint'].unique()\n",
    "y_stelasyn = py_stelasyn_df.groupby('Timepoint')['Mouse ID'].nunique()\n",
    "plt.bar(x_stelasyn,y_stelasyn, width=3)\n",
    "plt.xticks(np.arange(0, 50, step=5))\n",
    "plt.xlabel(\"Timepoint\")\n",
    "plt.title(\"Count of Mice in each Timepoint of the Stelasyn Study\")\n",
    "plt.show()\n",
    "\n",
    "py_zoniferol_df = cleaned_merge_mouse_data_df.loc[cleaned_merge_mouse_data_df[\"Drug Regimen\"]== \"Zoniferol\",['Mouse ID','Drug Regimen','Sex','Age_months','Weight (g)','Timepoint','Tumor Volume (mm3)','Metastatic Sites']] \n",
    "x_zoniferol = py_zoniferol_df['Timepoint'].unique()\n",
    "y_zoniferol = py_zoniferol_df.groupby('Timepoint')['Mouse ID'].nunique()\n",
    "plt.bar(x_zoniferol,y_zoniferol, width=3)\n",
    "plt.xticks(np.arange(0, 50, step=5))\n",
    "plt.xlabel(\"Timepoint\")\n",
    "plt.title(\"Count of Mice in each Timepoint of the zoniferol Study\")\n",
    "plt.show()\n",
    "\n",
    "\n",
    "\n",
    "\n",
    "\n",
    "\n",
    "\n",
    "\n"
   ]
  },
  {
   "cell_type": "markdown",
   "metadata": {},
   "source": [
    "## Pie Plots"
   ]
  },
  {
   "cell_type": "code",
   "execution_count": 11,
   "metadata": {},
   "outputs": [
    {
     "data": {
      "image/png": "[encoded data removed]",
      "text/plain": [
       "<Figure size 432x288 with 1 Axes>"
      ]
     },
     "metadata": {},
     "output_type": "display_data"
    }
   ],
   "source": [
    "# Generate a pie plot showing the distribution of female versus male mice using pandas\n",
    "gender_df = cleaned_merge_mouse_data_df.loc[:, ['Sex', 'Mouse ID']]\n",
    "drop_dupe_df_gender = gender_df.drop_duplicates('Mouse ID')\n",
    "drop_dupe_df_gender['Sex'].value_counts().plot(kind='pie')\n",
    "plt.show()\n",
    "\n",
    "\n",
    "\n"
   ]
  },
  {
   "cell_type": "code",
   "execution_count": 12,
   "metadata": {},
   "outputs": [
    {
     "data": {
      "image/png": "[encoded data removed]",
      "text/plain": [
       "<Figure size 432x288 with 1 Axes>"
      ]
     },
     "metadata": {},
     "output_type": "display_data"
    }
   ],
   "source": [
    "# Generate a pie plot showing the distribution of female versus male mice using pyplot\n",
    "py_gender_df = cleaned_merge_mouse_data_df.loc[:, ['Sex', 'Mouse ID']]\n",
    "py_drop_dupe_df_gender = py_gender_df.drop_duplicates('Mouse ID')\n",
    "count_m_f = py_drop_dupe_df_gender['Sex'].value_counts()\n",
    "pylabels = 'Male', 'Female'\n",
    "plt.pie(count_m_f, labels=pylabels, autopct='%1.1f%%')\n",
    "plt.title('Sex')\n",
    "plt.axis('equal')\n",
    "plt.show()\n"
   ]
  },
  {
   "cell_type": "markdown",
   "metadata": {},
   "source": [
    "## Quartiles, Outliers and Boxplots"
   ]
  },
  {
   "cell_type": "code",
   "execution_count": 13,
   "metadata": {},
   "outputs": [
    {
     "name": "stdout",
     "output_type": "stream",
     "text": [
      "The lower quartile of the final tumor volume for Capomulin is: 32.37735684\n",
      "The upper quartile of the final tumor volume for Capomulin is: 40.1592203\n",
      "The interquartile range of the final tumor volume for Capomulin is: 7.781863460000004\n",
      "The the median of the final tumor volume for Capomulin is: 37.31184577 \n",
      "Values below 20.70456164999999 could be outliers.\n",
      "Values above 51.83201549 could be outliers.\n",
      "------------------------------------------------------------------------------------\n",
      "The lower quartile of the final tumor volume for Ramicane is: 30.981175224999998\n",
      "The upper quartile of the final tumor volume for Ramicane is: 38.508305307499995\n",
      "The interquartile range of the final tumor volume for Ramicane is: 7.527130082499998\n",
      "The the median of the final tumor volume for Ramicane is: 34.848627300000004 \n",
      "Values below 19.690480101250003 could be outliers.\n",
      "Values above 49.79900043124999 could be outliers.\n",
      "------------------------------------------------------------------------------------\n",
      "The lower quartile of the final tumor volume for Infubinol is: 62.75445141\n",
      "The upper quartile of the final tumor volume for Infubinol is: 67.68556862\n",
      "The interquartile range of the final tumor volume for Infubinol is: 4.9311172099999965\n",
      "The the median of the final tumor volume for Infubinol is: 66.08306589 \n",
      "Values below 55.35777559500001 could be outliers.\n",
      "Values above 75.08224443499999 could be outliers.\n",
      "------------------------------------------------------------------------------------\n",
      "The lower quartile of the final tumor volume for ceftamin is: 61.43389223\n",
      "The upper quartile of the final tumor volume for ceftamin is: 67.52748237\n",
      "The interquartile range of the final tumor volume for ceftamin is: 6.093590140000003\n",
      "The the median of the final tumor volume for ceftamin is: 64.29983003 \n",
      "Values below 52.29350701999999 could be outliers.\n",
      "Values above 76.66786758 could be outliers.\n"
     ]
    },
    {
     "data": {
      "text/html": [
       "<div>\n",
       "<style scoped>\n",
       "    .dataframe tbody tr th:only-of-type {\n",
       "        vertical-align: middle;\n",
       "    }\n",
       "\n",
       "    .dataframe tbody tr th {\n",
       "        vertical-align: top;\n",
       "    }\n",
       "\n",
       "    .dataframe thead th {\n",
       "        text-align: right;\n",
       "    }\n",
       "</style>\n",
       "<table border=\"1\" class=\"dataframe\">\n",
       "  <thead>\n",
       "    <tr style=\"text-align: right;\">\n",
       "      <th></th>\n",
       "      <th>Mouse ID</th>\n",
       "      <th>Tumor Volume (mm3)</th>\n",
       "      <th>Timepoint</th>\n",
       "    </tr>\n",
       "  </thead>\n",
       "  <tbody>\n",
       "    <tr>\n",
       "      <th>493</th>\n",
       "      <td>a275</td>\n",
       "      <td>62.999356</td>\n",
       "      <td>45</td>\n",
       "    </tr>\n",
       "    <tr>\n",
       "      <th>993</th>\n",
       "      <td>j296</td>\n",
       "      <td>61.849023</td>\n",
       "      <td>45</td>\n",
       "    </tr>\n",
       "    <tr>\n",
       "      <th>1033</th>\n",
       "      <td>k210</td>\n",
       "      <td>68.923185</td>\n",
       "      <td>45</td>\n",
       "    </tr>\n",
       "    <tr>\n",
       "      <th>1112</th>\n",
       "      <td>l471</td>\n",
       "      <td>67.748662</td>\n",
       "      <td>45</td>\n",
       "    </tr>\n",
       "    <tr>\n",
       "      <th>1132</th>\n",
       "      <td>l661</td>\n",
       "      <td>59.851956</td>\n",
       "      <td>45</td>\n",
       "    </tr>\n",
       "  </tbody>\n",
       "</table>\n",
       "</div>"
      ],
      "text/plain": [
       "     Mouse ID  Tumor Volume (mm3)  Timepoint\n",
       "493      a275           62.999356         45\n",
       "993      j296           61.849023         45\n",
       "1033     k210           68.923185         45\n",
       "1112     l471           67.748662         45\n",
       "1132     l661           59.851956         45"
      ]
     },
     "execution_count": 13,
     "metadata": {},
     "output_type": "execute_result"
    }
   ],
   "source": [
    "# Calculate the final tumor volume of each mouse across four of the most promising treatment regimens. Calculate the IQR and quantitatively determine if there are any potential outliers.\n",
    "#print(\"Capomulin Final Tumor Volume per Mouse\")\n",
    "t_vol_capomulin_df = cleaned_merge_mouse_data_df.loc[(cleaned_merge_mouse_data_df[\"Drug Regimen\"]== \"Capomulin\") & (cleaned_merge_mouse_data_df[\"Timepoint\"]==45),['Mouse ID','Tumor Volume (mm3)','Timepoint']] \n",
    "tumors_capomulin = t_vol_capomulin_df['Tumor Volume (mm3)']\n",
    "capomulin_quartiles =  tumors_capomulin.quantile([.25, .5, .75])\n",
    "capomulin_lowerq  = capomulin_quartiles[0.25]\n",
    "capomulin_upperq =  capomulin_quartiles[0.75] \n",
    "capomulin_iqr = capomulin_upperq - capomulin_lowerq\n",
    "print(f\"The lower quartile of the final tumor volume for Capomulin is: {capomulin_lowerq}\")\n",
    "print(f\"The upper quartile of the final tumor volume for Capomulin is: {capomulin_upperq}\")\n",
    "print(f\"The interquartile range of the final tumor volume for Capomulin is: {capomulin_iqr}\")\n",
    "print(f\"The the median of the final tumor volume for Capomulin is: {capomulin_quartiles[0.5]} \")\n",
    "capomulin_lower_bound = capomulin_lowerq - (1.5*capomulin_iqr)\n",
    "capomulin_upper_bound = capomulin_upperq + (1.5*capomulin_iqr)\n",
    "print(f\"Values below {capomulin_lower_bound} could be outliers.\")\n",
    "print(f\"Values above {capomulin_upper_bound} could be outliers.\")\n",
    "\n",
    "print(\"------------------------------------------------------------------------------------\")\n",
    "\n",
    "t_vol_ramicane_df = cleaned_merge_mouse_data_df.loc[(cleaned_merge_mouse_data_df[\"Drug Regimen\"]== \"Ramicane\") & (cleaned_merge_mouse_data_df[\"Timepoint\"]==45),['Mouse ID','Tumor Volume (mm3)','Timepoint']] \n",
    "tumors_ramicane = t_vol_ramicane_df['Tumor Volume (mm3)']\n",
    "ramicane_quartiles =  tumors_ramicane.quantile([.25, .5, .75])\n",
    "ramicane_lowerq  = ramicane_quartiles[0.25]\n",
    "ramicane_upperq =  ramicane_quartiles[0.75] \n",
    "ramicane_iqr = ramicane_upperq - ramicane_lowerq\n",
    "print(f\"The lower quartile of the final tumor volume for Ramicane is: {ramicane_lowerq}\")\n",
    "print(f\"The upper quartile of the final tumor volume for Ramicane is: {ramicane_upperq}\")\n",
    "print(f\"The interquartile range of the final tumor volume for Ramicane is: {ramicane_iqr}\")\n",
    "print(f\"The the median of the final tumor volume for Ramicane is: {ramicane_quartiles[0.5]} \")\n",
    "ramicane_lower_bound = ramicane_lowerq - (1.5*ramicane_iqr)\n",
    "ramicane_upper_bound = ramicane_upperq + (1.5*ramicane_iqr)\n",
    "print(f\"Values below {ramicane_lower_bound} could be outliers.\")\n",
    "print(f\"Values above {ramicane_upper_bound} could be outliers.\")\n",
    "\n",
    "print(\"------------------------------------------------------------------------------------\")\n",
    "t_vol_infubinol_df = cleaned_merge_mouse_data_df.loc[(cleaned_merge_mouse_data_df[\"Drug Regimen\"]== \"Infubinol\") & (cleaned_merge_mouse_data_df[\"Timepoint\"]==45),['Mouse ID','Tumor Volume (mm3)', 'Timepoint']] \n",
    "tumors_infubinol = t_vol_infubinol_df['Tumor Volume (mm3)']\n",
    "infubinol_quartiles =  tumors_infubinol.quantile([.25, .5, .75])\n",
    "infubinol_lowerq  = infubinol_quartiles[0.25]\n",
    "infubinol_upperq =  infubinol_quartiles[0.75] \n",
    "infubinol_iqr = infubinol_upperq - infubinol_lowerq\n",
    "print(f\"The lower quartile of the final tumor volume for Infubinol is: {infubinol_lowerq}\")\n",
    "print(f\"The upper quartile of the final tumor volume for Infubinol is: {infubinol_upperq}\")\n",
    "print(f\"The interquartile range of the final tumor volume for Infubinol is: {infubinol_iqr}\")\n",
    "print(f\"The the median of the final tumor volume for Infubinol is: {infubinol_quartiles[0.5]} \")\n",
    "infubinol_lower_bound = infubinol_lowerq - (1.5*infubinol_iqr)\n",
    "infubinol_upper_bound = infubinol_upperq + (1.5*infubinol_iqr)\n",
    "print(f\"Values below {infubinol_lower_bound} could be outliers.\")\n",
    "print(f\"Values above {infubinol_upper_bound} could be outliers.\")\n",
    "print(\"------------------------------------------------------------------------------------\")\n",
    "\n",
    "t_vol_ceftamin_df = cleaned_merge_mouse_data_df.loc[(cleaned_merge_mouse_data_df[\"Drug Regimen\"]== \"Ceftamin\") & (cleaned_merge_mouse_data_df[\"Timepoint\"]==45),['Mouse ID','Tumor Volume (mm3)', 'Timepoint']] \n",
    "tumors_ceftamin = t_vol_ceftamin_df['Tumor Volume (mm3)']\n",
    "ceftamin_quartiles =  tumors_ceftamin.quantile([.25, .5, .75])\n",
    "ceftamin_lowerq  = ceftamin_quartiles[0.25]\n",
    "ceftamin_upperq =  ceftamin_quartiles[0.75] \n",
    "ceftamin_iqr = ceftamin_upperq - ceftamin_lowerq\n",
    "print(f\"The lower quartile of the final tumor volume for ceftamin is: {ceftamin_lowerq}\")\n",
    "print(f\"The upper quartile of the final tumor volume for ceftamin is: {ceftamin_upperq}\")\n",
    "print(f\"The interquartile range of the final tumor volume for ceftamin is: {ceftamin_iqr}\")\n",
    "print(f\"The the median of the final tumor volume for ceftamin is: {ceftamin_quartiles[0.5]} \")\n",
    "ceftamin_lower_bound = ceftamin_lowerq - (1.5*ceftamin_iqr)\n",
    "ceftamin_upper_bound = ceftamin_upperq + (1.5*ceftamin_iqr)\n",
    "print(f\"Values below {ceftamin_lower_bound} could be outliers.\")\n",
    "print(f\"Values above {ceftamin_upper_bound} could be outliers.\")\n",
    "\n",
    "t_vol_ceftamin_df.head()"
   ]
  },
  {
   "cell_type": "code",
   "execution_count": 14,
   "metadata": {},
   "outputs": [
    {
     "data": {
      "image/png": "[encoded data removed]",
      "text/plain": [
       "<Figure size 432x288 with 1 Axes>"
      ]
     },
     "metadata": {
      "needs_background": "light"
     },
     "output_type": "display_data"
    }
   ],
   "source": [
    "# Generate a box plot of the final tumor volume of each mouse across four regimens of interest\n",
    "box_plt_data = [tumors_capomulin, tumors_ramicane, tumors_infubinol, tumors_ceftamin]\n",
    "\n",
    "fig1, ax1 = plt.subplots()\n",
    "ax1.set_title('Capomulin Final Tumor Volume')\n",
    "ax1.set_ylabel('Tumor Volume (mm3)')\n",
    "ax1.boxplot(box_plt_data, labels =[\"Capomulin\",\"Ramicane\",\"Infubinol\",\"Cetamin\"])\n",
    "plt.show()\n"
   ]
  },
  {
   "cell_type": "markdown",
   "metadata": {},
   "source": [
    "## Line and Scatter Plots"
   ]
  },
  {
   "cell_type": "code",
   "execution_count": 15,
   "metadata": {},
   "outputs": [
    {
     "data": {
      "image/png": "[encoded data removed]",
      "text/plain": [
       "<Figure size 432x288 with 1 Axes>"
      ]
     },
     "metadata": {
      "needs_background": "light"
     },
     "output_type": "display_data"
    }
   ],
   "source": [
    "# Generate a line plot of time point versus tumor volume for a mouse treated with Capomulin\n",
    "line_cap_df = cleaned_merge_mouse_data_df.loc[(cleaned_merge_mouse_data_df[\"Drug Regimen\"]== \"Capomulin\") & (cleaned_merge_mouse_data_df[\"Mouse ID\"]=='u364'),['Mouse ID','Tumor Volume (mm3)','Timepoint']] \n",
    "line_cap_df.head()\n",
    "x_axis_lp = line_cap_df[\"Timepoint\"]\n",
    "y_axis_lp = line_cap_df[\"Tumor Volume (mm3)\"]\n",
    "\n",
    "plt.title('Tumor Size at Timepoint for Mouse u364')\n",
    "plt.plot(x_axis_lp, y_axis_lp, linewidth = 3, markersize = 10)\n",
    "plt.xlabel(\"Timepoint\")\n",
    "plt.ylabel(\"Tumor Volume (mm3)\")\n",
    "plt.show()\n",
    "\n",
    "\n"
   ]
  },
  {
   "cell_type": "code",
   "execution_count": 16,
   "metadata": {},
   "outputs": [
    {
     "data": {
      "image/png": "[encoded data removed]",
      "text/plain": [
       "<Figure size 432x288 with 1 Axes>"
      ]
     },
     "metadata": {
      "needs_background": "light"
     },
     "output_type": "display_data"
    }
   ],
   "source": [
    "# Generate a scatter plot of mouse weight versus average tumor volume for the Capomulin regimen\n",
    "import matplotlib.pyplot as plt\n",
    "scat_cap_df = cleaned_merge_mouse_data_df.groupby([\"Mouse ID\"]).mean()\n",
    "plt.scatter(scat_cap_df['Weight (g)'],scat_cap_df['Tumor Volume (mm3)'])\n",
    "plt.xlabel('Weight (g)')\n",
    "plt.ylabel('Average Tumor Volume (mm3)')\n",
    "plt.show()\n",
    "\n",
    "\n"
   ]
  },
  {
   "cell_type": "markdown",
   "metadata": {},
   "source": [
    "## Correlation and Regression"
   ]
  },
  {
   "cell_type": "code",
   "execution_count": 17,
   "metadata": {},
   "outputs": [
    {
     "name": "stdout",
     "output_type": "stream",
     "text": [
      "The correlation between mouse weight and Average tumor volume (mm3) is 0.66\n",
      "slope: 1.096789    intercept: 21.010261\n"
     ]
    }
   ],
   "source": [
    "# Calculate the correlation coefficient and linear regression model \n",
    "# for mouse weight and average tumor volume for the Capomulin regimen\n",
    "cap_correlation=round(st.pearsonr(scat_cap_df['Weight (g)'],scat_cap_df['Tumor Volume (mm3)'])[0],2)\n",
    "print(f\"The correlation between mouse weight and Average tumor volume (mm3) is {cap_correlation}\")\n",
    "\n",
    "\n",
    "slope, intercept, r_value, p_value, std_err=st.linregress(scat_cap_df['Weight (g)'],scat_cap_df['Tumor Volume (mm3)'])\n",
    "print(\"slope: %f    intercept: %f\" % (slope, intercept))"
   ]
  },
  {
   "cell_type": "code",
   "execution_count": 18,
   "metadata": {},
   "outputs": [
    {
     "data": {
      "image/png": "[encoded data removed]",
      "text/plain": [
       "<Figure size 432x288 with 1 Axes>"
      ]
     },
     "metadata": {
      "needs_background": "light"
     },
     "output_type": "display_data"
    }
   ],
   "source": [
    "y_values = scat_cap_df['Weight (g)']*slope+intercept\n",
    "plt.scatter(scat_cap_df['Weight (g)'],scat_cap_df['Tumor Volume (mm3)'])\n",
    "plt.plot(scat_cap_df['Weight (g)'],y_values,color=\"red\")\n",
    "plt.xlabel('Weight(g)')\n",
    "plt.ylabel('Average Tumor Volume (mm3)')\n",
    "plt.show()"
   ]
  },
  {
   "cell_type": "code",
   "execution_count": 19,
   "metadata": {},
   "outputs": [],
   "source": [
    "#Obervations\n",
    "#1 of all treatments looks to be the most promising as it yielded the smallest overall tumor volume at tehe end of the study\n",
    "\n",
    "#2  At the first Timepoint (0), each study starts with the same number of mice, however propriva ends withe fewest mice.  Even fewer than \n",
    "# the placebo stuy, which may indicate it does more harm than good from a treatment perspective\n",
    "\n",
    "#3  There appears to be a positive correlation between tumor volume and mouse weight.  We Can say that as\n",
    "# a mouse increases in weight their tumor is expected to increase in volume as well. "
   ]
  }
 ],
 "metadata": {
  "anaconda-cloud": {},
  "kernelspec": {
   "display_name": "Python [conda env:PythonData] *",
   "language": "python",
   "name": "conda-env-PythonData-py"
  },
  "language_info": {
   "codemirror_mode": {
    "name": "ipython",
    "version": 3
   },
   "file_extension": ".py",
   "mimetype": "text/x-python",
   "name": "python",
   "nbconvert_exporter": "python",
   "pygments_lexer": "ipython3",
   "version": "3.6.10"
  }
 },
 "nbformat": 4,
 "nbformat_minor": 2
}
